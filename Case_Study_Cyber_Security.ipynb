{
  "nbformat": 4,
  "nbformat_minor": 0,
  "metadata": {
    "colab": {
      "provenance": [],
      "authorship_tag": "ABX9TyPzTW84+toHcSKjOGR3mdEQ"
    },
    "kernelspec": {
      "name": "ir",
      "display_name": "R"
    },
    "language_info": {
      "name": "R"
    }
  },
  "cells": [
    {
      "cell_type": "markdown",
      "source": [
        "# Preliminary\n",
        "\n",
        "The exercise is as follows:\n",
        "\n",
        "Imagine you are working as a mathematician/accountant at an cyber security firm. You receive data on cyber events of the last five years. This data includes information about the type of  incident, the industry of the company involved,, the size of the company, the geographical location, the duration of the incident and the\n",
        "the cost of rectifying the incident.\n",
        "Please develop a model to determine the risk premium for cyber risks. To develop and optimise\n",
        "this model, please use machine learning algorithms. Please prepare a presentation of no more than 10 minutes in which you present your approach. You can present your results in the form of a PowerPoint presentation, in a Word document or just on a soundtrack, is up to you.\n",
        "Important: There is no right or wrong. You should also be prepared to answer questions."
      ],
      "metadata": {
        "id": "MfB6kGV9_xRz"
      }
    },
    {
      "cell_type": "markdown",
      "source": [
        "# Main idea\n",
        "In order to solve this exercise, we create a hypothetical data set. Then, we train a machine learning model on this data learning the pattern regarding the costs. To conclude, we write a function that forecasts the net risk premium for a given entity considering potential uncertainty.\n",
        "We don't calculate general premiums as available for example glasses security but rather individual premiums as cyber crime is relatively new and bears many unknowns.\n",
        "In general, we make same assumptions to the data in order to handle computation time:\n",
        "\n",
        "*   We assume that all firms are already registered for the last five years\n",
        "\n",
        "*   There are only two types of location: East and West Germany\n",
        "* There are only three types of cases: hacker attacks, data breaches and others\n",
        "* There are only three sectors: Primary, Secondary, Tertiary\n",
        "* A case is closed within 72 hours\n",
        "* Firms have no more than 10,000 employees\n",
        "* Each firm has at least one case to report, i.e., there are no firms without no case in the last five years"
      ],
      "metadata": {
        "id": "EACS573mAGC_"
      }
    },
    {
      "cell_type": "markdown",
      "source": [
        "# Generating data\n",
        "We assume the following relationship:\n",
        "\n",
        "$$cost_{i,j} = 2 * employees_i + 5000 * secondary_i + 10000 * tertiary_i + 1000 * east_i + 100 * duration_{i,j} + 20000 * hacker_{i,j} + 50000 * databreach_{i,j} + \\epsilon_{i,j} $$\n",
        "\n",
        "with $j$ representing the case number per firm $i$. Costs are in Euro. $employees_i$ represents the number of employees in firm $i$, $secondary_i$ and $tertiary_i$ are dummies that are 1 of firm $i$ is primarily working in the second or third economical sector with the primary sector being the default. $duration_{i,j}$ is the duration of case $j$ for firm $i$ in hours. $hacker_{i,j}$ and $databreach_{i,j}$ are dummies indicating the type of case $j$ for firm $i$ with other cases being the default. In addition, there is an random error that changes the costs between one tenth less or one tenth more."
      ],
      "metadata": {
        "id": "PvwhGFS7BPXF"
      }
    },
    {
      "cell_type": "markdown",
      "source": [
        "### Generating firm data"
      ],
      "metadata": {
        "id": "chu8i06MJ8HA"
      }
    },
    {
      "cell_type": "code",
      "execution_count": null,
      "metadata": {
        "colab": {
          "base_uri": "https://localhost:8080/",
          "height": 286
        },
        "id": "oWXtFGKRkGSA",
        "outputId": "f8005aa2-9252-4513-b6cb-e0f4f6a0ce60"
      },
      "outputs": [
        {
          "output_type": "display_data",
          "data": {
            "text/html": [
              "<table class=\"dataframe\">\n",
              "<caption>A data.frame: 6 × 6</caption>\n",
              "<thead>\n",
              "\t<tr><th></th><th scope=col>firm_id</th><th scope=col>employees</th><th scope=col>east</th><th scope=col>num_cases</th><th scope=col>secondary</th><th scope=col>tertiary</th></tr>\n",
              "\t<tr><th></th><th scope=col>&lt;int&gt;</th><th scope=col>&lt;int&gt;</th><th scope=col>&lt;dbl&gt;</th><th scope=col>&lt;int&gt;</th><th scope=col>&lt;dbl&gt;</th><th scope=col>&lt;dbl&gt;</th></tr>\n",
              "</thead>\n",
              "<tbody>\n",
              "\t<tr><th scope=row>1</th><td>1</td><td>4330</td><td>0</td><td>2</td><td>0</td><td>1</td></tr>\n",
              "\t<tr><th scope=row>2</th><td>2</td><td>4053</td><td>1</td><td>9</td><td>0</td><td>0</td></tr>\n",
              "\t<tr><th scope=row>3</th><td>3</td><td> 369</td><td>1</td><td>7</td><td>0</td><td>1</td></tr>\n",
              "\t<tr><th scope=row>4</th><td>4</td><td>4908</td><td>1</td><td>1</td><td>0</td><td>0</td></tr>\n",
              "\t<tr><th scope=row>5</th><td>5</td><td>2126</td><td>0</td><td>4</td><td>1</td><td>0</td></tr>\n",
              "\t<tr><th scope=row>6</th><td>6</td><td>2009</td><td>0</td><td>2</td><td>0</td><td>1</td></tr>\n",
              "</tbody>\n",
              "</table>\n"
            ],
            "text/markdown": "\nA data.frame: 6 × 6\n\n| <!--/--> | firm_id &lt;int&gt; | employees &lt;int&gt; | east &lt;dbl&gt; | num_cases &lt;int&gt; | secondary &lt;dbl&gt; | tertiary &lt;dbl&gt; |\n|---|---|---|---|---|---|---|\n| 1 | 1 | 4330 | 0 | 2 | 0 | 1 |\n| 2 | 2 | 4053 | 1 | 9 | 0 | 0 |\n| 3 | 3 |  369 | 1 | 7 | 0 | 1 |\n| 4 | 4 | 4908 | 1 | 1 | 0 | 0 |\n| 5 | 5 | 2126 | 0 | 4 | 1 | 0 |\n| 6 | 6 | 2009 | 0 | 2 | 0 | 1 |\n\n",
            "text/latex": "A data.frame: 6 × 6\n\\begin{tabular}{r|llllll}\n  & firm\\_id & employees & east & num\\_cases & secondary & tertiary\\\\\n  & <int> & <int> & <dbl> & <int> & <dbl> & <dbl>\\\\\n\\hline\n\t1 & 1 & 4330 & 0 & 2 & 0 & 1\\\\\n\t2 & 2 & 4053 & 1 & 9 & 0 & 0\\\\\n\t3 & 3 &  369 & 1 & 7 & 0 & 1\\\\\n\t4 & 4 & 4908 & 1 & 1 & 0 & 0\\\\\n\t5 & 5 & 2126 & 0 & 4 & 1 & 0\\\\\n\t6 & 6 & 2009 & 0 & 2 & 0 & 1\\\\\n\\end{tabular}\n",
            "text/plain": [
              "  firm_id employees east num_cases secondary tertiary\n",
              "1 1       4330      0    2         0         1       \n",
              "2 2       4053      1    9         0         0       \n",
              "3 3        369      1    7         0         1       \n",
              "4 4       4908      1    1         0         0       \n",
              "5 5       2126      0    4         1         0       \n",
              "6 6       2009      0    2         0         1       "
            ]
          },
          "metadata": {}
        }
      ],
      "source": [
        "# Set seed\n",
        "set.seed(176)\n",
        "\n",
        "# Generate random firms\n",
        "num_firms = 1000\n",
        "\n",
        "# Generate number of employees\n",
        "employees = sample(1:10000, num_firms, replace = T)\n",
        "\n",
        "# Generate dummy variable for East Germany\n",
        "east_germany = sample(c(0, 1), num_firms, replace = TRUE)\n",
        "\n",
        "# Generate random sector for each firm (primary, secondary, tertiary)\n",
        "sectors = sample(c(\"Primary\", \"Secondary\", \"Tertiary\"), num_firms, replace = TRUE)\n",
        "\n",
        "# Generate number of cases for each firm\n",
        "num_cases = sample(1:10, num_firms, replace = T)\n",
        "\n",
        "# Create dataframe\n",
        "firms = data.frame(\n",
        "  firm_id = 1:num_firms,\n",
        "  employees = employees,\n",
        "  east = east_germany,\n",
        "  sector = sectors,\n",
        "  num_cases = num_cases\n",
        ")\n",
        "\n",
        "# Make dummies for sector\n",
        "firms$secondary = ifelse(firms$sector == \"Secondary\", 1, 0)\n",
        "firms$tertiary = ifelse(firms$sector == \"Tertiary\", 1, 0)\n",
        "firms$sector = NULL\n",
        "\n",
        "# Show data\n",
        "head(firms)"
      ]
    },
    {
      "cell_type": "markdown",
      "source": [
        "### Generating cases"
      ],
      "metadata": {
        "id": "CaYLnuS2KEDK"
      }
    },
    {
      "cell_type": "code",
      "source": [
        "# Set seed\n",
        "set.seed(176)\n",
        "\n",
        "# Replicate observations between 1 to 10 times\n",
        "panel_data = firms[rep(row.names(firms), firms$num_cases), ]\n",
        "\n",
        "# Reset row names\n",
        "row.names(panel_data) = NULL\n",
        "\n",
        "# Remove column num_cases\n",
        "panel_data$num_cases = NULL\n",
        "\n",
        "# Generate year number\n",
        "panel_data$year = sample(2019:2023, nrow(panel_data), replace = TRUE)\n",
        "\n",
        "# Generate random duration between 1 and 72 hours\n",
        "panel_data$duration = sample(1:72, nrow(panel_data), replace = TRUE)\n",
        "\n",
        "# Generate random case types for each firm (hacker, databreach, other)\n",
        "panel_data$case_types = sample(c(\"Hacker\", \"Data Breach\", \"Other\"), nrow(panel_data), replace = TRUE)\n",
        "panel_data$hacker = ifelse(panel_data$case_types == \"Hacker\", 1, 0)\n",
        "panel_data$databreach = ifelse(panel_data$case_types == \"Data Breach\", 1, 0)\n",
        "panel_data$case_types = NULL\n",
        "\n",
        "# Calculate costs based on the provided formula\n",
        "panel_data$costs = 2 * panel_data$employees +\n",
        "         5000 * panel_data$secondary +\n",
        "         10000 * panel_data$tertiary +\n",
        "         1000 * panel_data$east +\n",
        "         100 * panel_data$duration  +\n",
        "         20000 * panel_data$hacker +\n",
        "         50000 * panel_data$databreach\n",
        "\n",
        "# Add random error\n",
        "panel_data$random_error = runif(nrow(panel_data), min = -0.1, max = 0.1)\n",
        "panel_data$costs = round(panel_data$costs + (panel_data$costs * panel_data$random_error))\n",
        "panel_data$random_error = NULL\n",
        "\n",
        "# Show data\n",
        "print(paste0(\"The panel data set has \", nrow(panel_data), \" rows.\"))\n",
        "head(panel_data, 20)"
      ],
      "metadata": {
        "colab": {
          "base_uri": "https://localhost:8080/",
          "height": 742
        },
        "id": "ISBJvfAYEbE-",
        "outputId": "dd4a072e-300b-4762-a792-7eaf32ed9d9a"
      },
      "execution_count": null,
      "outputs": [
        {
          "output_type": "stream",
          "name": "stdout",
          "text": [
            "[1] \"The panel data set has 5453 rows.\"\n"
          ]
        },
        {
          "output_type": "display_data",
          "data": {
            "text/html": [
              "<table class=\"dataframe\">\n",
              "<caption>A data.frame: 20 × 10</caption>\n",
              "<thead>\n",
              "\t<tr><th></th><th scope=col>firm_id</th><th scope=col>employees</th><th scope=col>east</th><th scope=col>secondary</th><th scope=col>tertiary</th><th scope=col>year</th><th scope=col>duration</th><th scope=col>hacker</th><th scope=col>databreach</th><th scope=col>costs</th></tr>\n",
              "\t<tr><th></th><th scope=col>&lt;int&gt;</th><th scope=col>&lt;int&gt;</th><th scope=col>&lt;dbl&gt;</th><th scope=col>&lt;dbl&gt;</th><th scope=col>&lt;dbl&gt;</th><th scope=col>&lt;int&gt;</th><th scope=col>&lt;int&gt;</th><th scope=col>&lt;dbl&gt;</th><th scope=col>&lt;dbl&gt;</th><th scope=col>&lt;dbl&gt;</th></tr>\n",
              "</thead>\n",
              "<tbody>\n",
              "\t<tr><th scope=row>1</th><td>1</td><td>4330</td><td>0</td><td>0</td><td>1</td><td>2020</td><td>17</td><td>0</td><td>1</td><td>75011</td></tr>\n",
              "\t<tr><th scope=row>2</th><td>1</td><td>4330</td><td>0</td><td>0</td><td>1</td><td>2023</td><td>56</td><td>0</td><td>0</td><td>24437</td></tr>\n",
              "\t<tr><th scope=row>3</th><td>2</td><td>4053</td><td>1</td><td>0</td><td>0</td><td>2019</td><td>35</td><td>1</td><td>0</td><td>33630</td></tr>\n",
              "\t<tr><th scope=row>4</th><td>2</td><td>4053</td><td>1</td><td>0</td><td>0</td><td>2022</td><td>31</td><td>0</td><td>1</td><td>57962</td></tr>\n",
              "\t<tr><th scope=row>5</th><td>2</td><td>4053</td><td>1</td><td>0</td><td>0</td><td>2023</td><td>50</td><td>1</td><td>0</td><td>33822</td></tr>\n",
              "\t<tr><th scope=row>6</th><td>2</td><td>4053</td><td>1</td><td>0</td><td>0</td><td>2019</td><td>54</td><td>0</td><td>1</td><td>61468</td></tr>\n",
              "\t<tr><th scope=row>7</th><td>2</td><td>4053</td><td>1</td><td>0</td><td>0</td><td>2020</td><td>42</td><td>0</td><td>1</td><td>58373</td></tr>\n",
              "\t<tr><th scope=row>8</th><td>2</td><td>4053</td><td>1</td><td>0</td><td>0</td><td>2019</td><td>13</td><td>0</td><td>0</td><td> 9445</td></tr>\n",
              "\t<tr><th scope=row>9</th><td>2</td><td>4053</td><td>1</td><td>0</td><td>0</td><td>2020</td><td>19</td><td>1</td><td>0</td><td>33834</td></tr>\n",
              "\t<tr><th scope=row>10</th><td>2</td><td>4053</td><td>1</td><td>0</td><td>0</td><td>2023</td><td>65</td><td>1</td><td>0</td><td>35445</td></tr>\n",
              "\t<tr><th scope=row>11</th><td>2</td><td>4053</td><td>1</td><td>0</td><td>0</td><td>2023</td><td>61</td><td>1</td><td>0</td><td>33499</td></tr>\n",
              "\t<tr><th scope=row>12</th><td>3</td><td> 369</td><td>1</td><td>0</td><td>1</td><td>2022</td><td>54</td><td>0</td><td>0</td><td>15739</td></tr>\n",
              "\t<tr><th scope=row>13</th><td>3</td><td> 369</td><td>1</td><td>0</td><td>1</td><td>2022</td><td>65</td><td>1</td><td>0</td><td>41392</td></tr>\n",
              "\t<tr><th scope=row>14</th><td>3</td><td> 369</td><td>1</td><td>0</td><td>1</td><td>2019</td><td>45</td><td>0</td><td>1</td><td>63928</td></tr>\n",
              "\t<tr><th scope=row>15</th><td>3</td><td> 369</td><td>1</td><td>0</td><td>1</td><td>2021</td><td>53</td><td>0</td><td>1</td><td>68091</td></tr>\n",
              "\t<tr><th scope=row>16</th><td>3</td><td> 369</td><td>1</td><td>0</td><td>1</td><td>2020</td><td> 6</td><td>1</td><td>0</td><td>29695</td></tr>\n",
              "\t<tr><th scope=row>17</th><td>3</td><td> 369</td><td>1</td><td>0</td><td>1</td><td>2021</td><td>28</td><td>1</td><td>0</td><td>33334</td></tr>\n",
              "\t<tr><th scope=row>18</th><td>3</td><td> 369</td><td>1</td><td>0</td><td>1</td><td>2019</td><td>62</td><td>1</td><td>0</td><td>38229</td></tr>\n",
              "\t<tr><th scope=row>19</th><td>4</td><td>4908</td><td>1</td><td>0</td><td>0</td><td>2019</td><td>25</td><td>0</td><td>1</td><td>62442</td></tr>\n",
              "\t<tr><th scope=row>20</th><td>5</td><td>2126</td><td>0</td><td>1</td><td>0</td><td>2020</td><td>26</td><td>0</td><td>0</td><td>11543</td></tr>\n",
              "</tbody>\n",
              "</table>\n"
            ],
            "text/markdown": "\nA data.frame: 20 × 10\n\n| <!--/--> | firm_id &lt;int&gt; | employees &lt;int&gt; | east &lt;dbl&gt; | secondary &lt;dbl&gt; | tertiary &lt;dbl&gt; | year &lt;int&gt; | duration &lt;int&gt; | hacker &lt;dbl&gt; | databreach &lt;dbl&gt; | costs &lt;dbl&gt; |\n|---|---|---|---|---|---|---|---|---|---|---|\n| 1 | 1 | 4330 | 0 | 0 | 1 | 2020 | 17 | 0 | 1 | 75011 |\n| 2 | 1 | 4330 | 0 | 0 | 1 | 2023 | 56 | 0 | 0 | 24437 |\n| 3 | 2 | 4053 | 1 | 0 | 0 | 2019 | 35 | 1 | 0 | 33630 |\n| 4 | 2 | 4053 | 1 | 0 | 0 | 2022 | 31 | 0 | 1 | 57962 |\n| 5 | 2 | 4053 | 1 | 0 | 0 | 2023 | 50 | 1 | 0 | 33822 |\n| 6 | 2 | 4053 | 1 | 0 | 0 | 2019 | 54 | 0 | 1 | 61468 |\n| 7 | 2 | 4053 | 1 | 0 | 0 | 2020 | 42 | 0 | 1 | 58373 |\n| 8 | 2 | 4053 | 1 | 0 | 0 | 2019 | 13 | 0 | 0 |  9445 |\n| 9 | 2 | 4053 | 1 | 0 | 0 | 2020 | 19 | 1 | 0 | 33834 |\n| 10 | 2 | 4053 | 1 | 0 | 0 | 2023 | 65 | 1 | 0 | 35445 |\n| 11 | 2 | 4053 | 1 | 0 | 0 | 2023 | 61 | 1 | 0 | 33499 |\n| 12 | 3 |  369 | 1 | 0 | 1 | 2022 | 54 | 0 | 0 | 15739 |\n| 13 | 3 |  369 | 1 | 0 | 1 | 2022 | 65 | 1 | 0 | 41392 |\n| 14 | 3 |  369 | 1 | 0 | 1 | 2019 | 45 | 0 | 1 | 63928 |\n| 15 | 3 |  369 | 1 | 0 | 1 | 2021 | 53 | 0 | 1 | 68091 |\n| 16 | 3 |  369 | 1 | 0 | 1 | 2020 |  6 | 1 | 0 | 29695 |\n| 17 | 3 |  369 | 1 | 0 | 1 | 2021 | 28 | 1 | 0 | 33334 |\n| 18 | 3 |  369 | 1 | 0 | 1 | 2019 | 62 | 1 | 0 | 38229 |\n| 19 | 4 | 4908 | 1 | 0 | 0 | 2019 | 25 | 0 | 1 | 62442 |\n| 20 | 5 | 2126 | 0 | 1 | 0 | 2020 | 26 | 0 | 0 | 11543 |\n\n",
            "text/latex": "A data.frame: 20 × 10\n\\begin{tabular}{r|llllllllll}\n  & firm\\_id & employees & east & secondary & tertiary & year & duration & hacker & databreach & costs\\\\\n  & <int> & <int> & <dbl> & <dbl> & <dbl> & <int> & <int> & <dbl> & <dbl> & <dbl>\\\\\n\\hline\n\t1 & 1 & 4330 & 0 & 0 & 1 & 2020 & 17 & 0 & 1 & 75011\\\\\n\t2 & 1 & 4330 & 0 & 0 & 1 & 2023 & 56 & 0 & 0 & 24437\\\\\n\t3 & 2 & 4053 & 1 & 0 & 0 & 2019 & 35 & 1 & 0 & 33630\\\\\n\t4 & 2 & 4053 & 1 & 0 & 0 & 2022 & 31 & 0 & 1 & 57962\\\\\n\t5 & 2 & 4053 & 1 & 0 & 0 & 2023 & 50 & 1 & 0 & 33822\\\\\n\t6 & 2 & 4053 & 1 & 0 & 0 & 2019 & 54 & 0 & 1 & 61468\\\\\n\t7 & 2 & 4053 & 1 & 0 & 0 & 2020 & 42 & 0 & 1 & 58373\\\\\n\t8 & 2 & 4053 & 1 & 0 & 0 & 2019 & 13 & 0 & 0 &  9445\\\\\n\t9 & 2 & 4053 & 1 & 0 & 0 & 2020 & 19 & 1 & 0 & 33834\\\\\n\t10 & 2 & 4053 & 1 & 0 & 0 & 2023 & 65 & 1 & 0 & 35445\\\\\n\t11 & 2 & 4053 & 1 & 0 & 0 & 2023 & 61 & 1 & 0 & 33499\\\\\n\t12 & 3 &  369 & 1 & 0 & 1 & 2022 & 54 & 0 & 0 & 15739\\\\\n\t13 & 3 &  369 & 1 & 0 & 1 & 2022 & 65 & 1 & 0 & 41392\\\\\n\t14 & 3 &  369 & 1 & 0 & 1 & 2019 & 45 & 0 & 1 & 63928\\\\\n\t15 & 3 &  369 & 1 & 0 & 1 & 2021 & 53 & 0 & 1 & 68091\\\\\n\t16 & 3 &  369 & 1 & 0 & 1 & 2020 &  6 & 1 & 0 & 29695\\\\\n\t17 & 3 &  369 & 1 & 0 & 1 & 2021 & 28 & 1 & 0 & 33334\\\\\n\t18 & 3 &  369 & 1 & 0 & 1 & 2019 & 62 & 1 & 0 & 38229\\\\\n\t19 & 4 & 4908 & 1 & 0 & 0 & 2019 & 25 & 0 & 1 & 62442\\\\\n\t20 & 5 & 2126 & 0 & 1 & 0 & 2020 & 26 & 0 & 0 & 11543\\\\\n\\end{tabular}\n",
            "text/plain": [
              "   firm_id employees east secondary tertiary year duration hacker databreach\n",
              "1  1       4330      0    0         1        2020 17       0      1         \n",
              "2  1       4330      0    0         1        2023 56       0      0         \n",
              "3  2       4053      1    0         0        2019 35       1      0         \n",
              "4  2       4053      1    0         0        2022 31       0      1         \n",
              "5  2       4053      1    0         0        2023 50       1      0         \n",
              "6  2       4053      1    0         0        2019 54       0      1         \n",
              "7  2       4053      1    0         0        2020 42       0      1         \n",
              "8  2       4053      1    0         0        2019 13       0      0         \n",
              "9  2       4053      1    0         0        2020 19       1      0         \n",
              "10 2       4053      1    0         0        2023 65       1      0         \n",
              "11 2       4053      1    0         0        2023 61       1      0         \n",
              "12 3        369      1    0         1        2022 54       0      0         \n",
              "13 3        369      1    0         1        2022 65       1      0         \n",
              "14 3        369      1    0         1        2019 45       0      1         \n",
              "15 3        369      1    0         1        2021 53       0      1         \n",
              "16 3        369      1    0         1        2020  6       1      0         \n",
              "17 3        369      1    0         1        2021 28       1      0         \n",
              "18 3        369      1    0         1        2019 62       1      0         \n",
              "19 4       4908      1    0         0        2019 25       0      1         \n",
              "20 5       2126      0    1         0        2020 26       0      0         \n",
              "   costs\n",
              "1  75011\n",
              "2  24437\n",
              "3  33630\n",
              "4  57962\n",
              "5  33822\n",
              "6  61468\n",
              "7  58373\n",
              "8   9445\n",
              "9  33834\n",
              "10 35445\n",
              "11 33499\n",
              "12 15739\n",
              "13 41392\n",
              "14 63928\n",
              "15 68091\n",
              "16 29695\n",
              "17 33334\n",
              "18 38229\n",
              "19 62442\n",
              "20 11543"
            ]
          },
          "metadata": {}
        }
      ]
    },
    {
      "cell_type": "markdown",
      "source": [
        "# Analyze data"
      ],
      "metadata": {
        "id": "DzPGDNssKPNa"
      }
    },
    {
      "cell_type": "code",
      "source": [
        "print(\"Summary of firms\")\n",
        "summary(firms)\n",
        "print(\"Summary of cases\")\n",
        "summary(panel_data)"
      ],
      "metadata": {
        "colab": {
          "base_uri": "https://localhost:8080/",
          "height": 659
        },
        "id": "vFI3SrDQKSVX",
        "outputId": "53afd469-cf47-4c53-e33a-581906c7be2e"
      },
      "execution_count": null,
      "outputs": [
        {
          "output_type": "stream",
          "name": "stdout",
          "text": [
            "[1] \"Summary of firms\"\n"
          ]
        },
        {
          "output_type": "display_data",
          "data": {
            "text/plain": [
              "    firm_id         employees         east         num_cases     \n",
              " Min.   :   1.0   Min.   :   4   Min.   :0.000   Min.   : 1.000  \n",
              " 1st Qu.: 250.8   1st Qu.:2276   1st Qu.:0.000   1st Qu.: 3.000  \n",
              " Median : 500.5   Median :4763   Median :0.000   Median : 5.000  \n",
              " Mean   : 500.5   Mean   :4903   Mean   :0.492   Mean   : 5.453  \n",
              " 3rd Qu.: 750.2   3rd Qu.:7421   3rd Qu.:1.000   3rd Qu.: 8.000  \n",
              " Max.   :1000.0   Max.   :9998   Max.   :1.000   Max.   :10.000  \n",
              "   secondary       tertiary    \n",
              " Min.   :0.00   Min.   :0.000  \n",
              " 1st Qu.:0.00   1st Qu.:0.000  \n",
              " Median :0.00   Median :0.000  \n",
              " Mean   :0.31   Mean   :0.337  \n",
              " 3rd Qu.:1.00   3rd Qu.:1.000  \n",
              " Max.   :1.00   Max.   :1.000  "
            ]
          },
          "metadata": {}
        },
        {
          "output_type": "stream",
          "name": "stdout",
          "text": [
            "[1] \"Summary of cases\"\n"
          ]
        },
        {
          "output_type": "display_data",
          "data": {
            "text/plain": [
              "    firm_id         employees         east         secondary     \n",
              " Min.   :   1.0   Min.   :   4   Min.   :0.000   Min.   :0.0000  \n",
              " 1st Qu.: 249.0   1st Qu.:2198   1st Qu.:0.000   1st Qu.:0.0000  \n",
              " Median : 499.0   Median :4746   Median :1.000   Median :0.0000  \n",
              " Mean   : 498.3   Mean   :4920   Mean   :0.505   Mean   :0.3127  \n",
              " 3rd Qu.: 752.0   3rd Qu.:7603   3rd Qu.:1.000   3rd Qu.:1.0000  \n",
              " Max.   :1000.0   Max.   :9998   Max.   :1.000   Max.   :1.0000  \n",
              "    tertiary           year         duration         hacker      \n",
              " Min.   :0.0000   Min.   :2019   Min.   : 1.00   Min.   :0.0000  \n",
              " 1st Qu.:0.0000   1st Qu.:2020   1st Qu.:18.00   1st Qu.:0.0000  \n",
              " Median :0.0000   Median :2021   Median :36.00   Median :0.0000  \n",
              " Mean   :0.3361   Mean   :2021   Mean   :36.25   Mean   :0.3402  \n",
              " 3rd Qu.:1.0000   3rd Qu.:2022   3rd Qu.:54.00   3rd Qu.:1.0000  \n",
              " Max.   :1.0000   Max.   :2023   Max.   :72.00   Max.   :1.0000  \n",
              "   databreach         costs      \n",
              " Min.   :0.0000   Min.   :  874  \n",
              " 1st Qu.:0.0000   1st Qu.:24511  \n",
              " Median :0.0000   Median :39600  \n",
              " Mean   :0.3398   Mean   :42690  \n",
              " 3rd Qu.:1.0000   3rd Qu.:63024  \n",
              " Max.   :1.0000   Max.   :93761  "
            ]
          },
          "metadata": {}
        }
      ]
    },
    {
      "cell_type": "markdown",
      "source": [
        "### Calculate costs per year per firm"
      ],
      "metadata": {
        "id": "9LmZDhswrH6n"
      }
    },
    {
      "cell_type": "code",
      "source": [
        "# Install packages and set library\n",
        "packages = c(\"dplyr\")\n",
        "install.packages(setdiff(packages, rownames(installed.packages())))\n",
        "library(dplyr)\n",
        "\n",
        "# Calculate 5-year average\n",
        "firms_avg_costs = panel_data %>% group_by(firm_id) %>% summarise(costs_per_year = sum(costs)/5)\n",
        "firms_avg_costs = merge(firms_avg_costs, firms[,c(\"firm_id\", \"employees\", \"east\", \"secondary\", \"tertiary\")])\n",
        "\n",
        "# Show data\n",
        "head(firms_avg_costs, 20)"
      ],
      "metadata": {
        "colab": {
          "base_uri": "https://localhost:8080/",
          "height": 968
        },
        "id": "RL7Pc5FbtaQE",
        "outputId": "b194b7da-e46e-4769-a27e-4e6073ccbd20"
      },
      "execution_count": null,
      "outputs": [
        {
          "output_type": "stream",
          "name": "stderr",
          "text": [
            "\n",
            "Attaching package: ‘dplyr’\n",
            "\n",
            "\n",
            "The following objects are masked from ‘package:stats’:\n",
            "\n",
            "    filter, lag\n",
            "\n",
            "\n",
            "The following objects are masked from ‘package:base’:\n",
            "\n",
            "    intersect, setdiff, setequal, union\n",
            "\n",
            "\n"
          ]
        },
        {
          "output_type": "display_data",
          "data": {
            "text/html": [
              "<table class=\"dataframe\">\n",
              "<caption>A data.frame: 20 × 6</caption>\n",
              "<thead>\n",
              "\t<tr><th></th><th scope=col>firm_id</th><th scope=col>costs_per_year</th><th scope=col>employees</th><th scope=col>east</th><th scope=col>secondary</th><th scope=col>tertiary</th></tr>\n",
              "\t<tr><th></th><th scope=col>&lt;int&gt;</th><th scope=col>&lt;dbl&gt;</th><th scope=col>&lt;int&gt;</th><th scope=col>&lt;dbl&gt;</th><th scope=col>&lt;dbl&gt;</th><th scope=col>&lt;dbl&gt;</th></tr>\n",
              "</thead>\n",
              "<tbody>\n",
              "\t<tr><th scope=row>1</th><td> 1</td><td>19889.6</td><td>4330</td><td>0</td><td>0</td><td>1</td></tr>\n",
              "\t<tr><th scope=row>2</th><td> 2</td><td>71495.6</td><td>4053</td><td>1</td><td>0</td><td>0</td></tr>\n",
              "\t<tr><th scope=row>3</th><td> 3</td><td>58081.6</td><td> 369</td><td>1</td><td>0</td><td>1</td></tr>\n",
              "\t<tr><th scope=row>4</th><td> 4</td><td>12488.4</td><td>4908</td><td>1</td><td>0</td><td>0</td></tr>\n",
              "\t<tr><th scope=row>5</th><td> 5</td><td>13837.8</td><td>2126</td><td>0</td><td>1</td><td>0</td></tr>\n",
              "\t<tr><th scope=row>6</th><td> 6</td><td> 7504.4</td><td>2009</td><td>0</td><td>0</td><td>1</td></tr>\n",
              "\t<tr><th scope=row>7</th><td> 7</td><td>35066.6</td><td>2930</td><td>0</td><td>0</td><td>1</td></tr>\n",
              "\t<tr><th scope=row>8</th><td> 8</td><td>31868.8</td><td>2631</td><td>1</td><td>0</td><td>0</td></tr>\n",
              "\t<tr><th scope=row>9</th><td> 9</td><td>93439.4</td><td>9022</td><td>1</td><td>1</td><td>0</td></tr>\n",
              "\t<tr><th scope=row>10</th><td>10</td><td>18115.2</td><td>1500</td><td>0</td><td>0</td><td>0</td></tr>\n",
              "\t<tr><th scope=row>11</th><td>11</td><td>46399.4</td><td>5992</td><td>0</td><td>1</td><td>0</td></tr>\n",
              "\t<tr><th scope=row>12</th><td>12</td><td> 7540.0</td><td>5977</td><td>0</td><td>0</td><td>0</td></tr>\n",
              "\t<tr><th scope=row>13</th><td>13</td><td>59718.0</td><td>7003</td><td>1</td><td>0</td><td>0</td></tr>\n",
              "\t<tr><th scope=row>14</th><td>14</td><td>66248.0</td><td>6786</td><td>1</td><td>1</td><td>0</td></tr>\n",
              "\t<tr><th scope=row>15</th><td>15</td><td>35348.6</td><td>2160</td><td>1</td><td>0</td><td>1</td></tr>\n",
              "\t<tr><th scope=row>16</th><td>16</td><td>17614.6</td><td>3595</td><td>1</td><td>0</td><td>1</td></tr>\n",
              "\t<tr><th scope=row>17</th><td>17</td><td>65205.0</td><td>2896</td><td>0</td><td>0</td><td>1</td></tr>\n",
              "\t<tr><th scope=row>18</th><td>18</td><td>35176.0</td><td>3809</td><td>0</td><td>0</td><td>1</td></tr>\n",
              "\t<tr><th scope=row>19</th><td>19</td><td>12112.0</td><td>4792</td><td>1</td><td>0</td><td>0</td></tr>\n",
              "\t<tr><th scope=row>20</th><td>20</td><td>23257.4</td><td>6032</td><td>1</td><td>0</td><td>1</td></tr>\n",
              "</tbody>\n",
              "</table>\n"
            ],
            "text/markdown": "\nA data.frame: 20 × 6\n\n| <!--/--> | firm_id &lt;int&gt; | costs_per_year &lt;dbl&gt; | employees &lt;int&gt; | east &lt;dbl&gt; | secondary &lt;dbl&gt; | tertiary &lt;dbl&gt; |\n|---|---|---|---|---|---|---|\n| 1 |  1 | 19889.6 | 4330 | 0 | 0 | 1 |\n| 2 |  2 | 71495.6 | 4053 | 1 | 0 | 0 |\n| 3 |  3 | 58081.6 |  369 | 1 | 0 | 1 |\n| 4 |  4 | 12488.4 | 4908 | 1 | 0 | 0 |\n| 5 |  5 | 13837.8 | 2126 | 0 | 1 | 0 |\n| 6 |  6 |  7504.4 | 2009 | 0 | 0 | 1 |\n| 7 |  7 | 35066.6 | 2930 | 0 | 0 | 1 |\n| 8 |  8 | 31868.8 | 2631 | 1 | 0 | 0 |\n| 9 |  9 | 93439.4 | 9022 | 1 | 1 | 0 |\n| 10 | 10 | 18115.2 | 1500 | 0 | 0 | 0 |\n| 11 | 11 | 46399.4 | 5992 | 0 | 1 | 0 |\n| 12 | 12 |  7540.0 | 5977 | 0 | 0 | 0 |\n| 13 | 13 | 59718.0 | 7003 | 1 | 0 | 0 |\n| 14 | 14 | 66248.0 | 6786 | 1 | 1 | 0 |\n| 15 | 15 | 35348.6 | 2160 | 1 | 0 | 1 |\n| 16 | 16 | 17614.6 | 3595 | 1 | 0 | 1 |\n| 17 | 17 | 65205.0 | 2896 | 0 | 0 | 1 |\n| 18 | 18 | 35176.0 | 3809 | 0 | 0 | 1 |\n| 19 | 19 | 12112.0 | 4792 | 1 | 0 | 0 |\n| 20 | 20 | 23257.4 | 6032 | 1 | 0 | 1 |\n\n",
            "text/latex": "A data.frame: 20 × 6\n\\begin{tabular}{r|llllll}\n  & firm\\_id & costs\\_per\\_year & employees & east & secondary & tertiary\\\\\n  & <int> & <dbl> & <int> & <dbl> & <dbl> & <dbl>\\\\\n\\hline\n\t1 &  1 & 19889.6 & 4330 & 0 & 0 & 1\\\\\n\t2 &  2 & 71495.6 & 4053 & 1 & 0 & 0\\\\\n\t3 &  3 & 58081.6 &  369 & 1 & 0 & 1\\\\\n\t4 &  4 & 12488.4 & 4908 & 1 & 0 & 0\\\\\n\t5 &  5 & 13837.8 & 2126 & 0 & 1 & 0\\\\\n\t6 &  6 &  7504.4 & 2009 & 0 & 0 & 1\\\\\n\t7 &  7 & 35066.6 & 2930 & 0 & 0 & 1\\\\\n\t8 &  8 & 31868.8 & 2631 & 1 & 0 & 0\\\\\n\t9 &  9 & 93439.4 & 9022 & 1 & 1 & 0\\\\\n\t10 & 10 & 18115.2 & 1500 & 0 & 0 & 0\\\\\n\t11 & 11 & 46399.4 & 5992 & 0 & 1 & 0\\\\\n\t12 & 12 &  7540.0 & 5977 & 0 & 0 & 0\\\\\n\t13 & 13 & 59718.0 & 7003 & 1 & 0 & 0\\\\\n\t14 & 14 & 66248.0 & 6786 & 1 & 1 & 0\\\\\n\t15 & 15 & 35348.6 & 2160 & 1 & 0 & 1\\\\\n\t16 & 16 & 17614.6 & 3595 & 1 & 0 & 1\\\\\n\t17 & 17 & 65205.0 & 2896 & 0 & 0 & 1\\\\\n\t18 & 18 & 35176.0 & 3809 & 0 & 0 & 1\\\\\n\t19 & 19 & 12112.0 & 4792 & 1 & 0 & 0\\\\\n\t20 & 20 & 23257.4 & 6032 & 1 & 0 & 1\\\\\n\\end{tabular}\n",
            "text/plain": [
              "   firm_id costs_per_year employees east secondary tertiary\n",
              "1   1      19889.6        4330      0    0         1       \n",
              "2   2      71495.6        4053      1    0         0       \n",
              "3   3      58081.6         369      1    0         1       \n",
              "4   4      12488.4        4908      1    0         0       \n",
              "5   5      13837.8        2126      0    1         0       \n",
              "6   6       7504.4        2009      0    0         1       \n",
              "7   7      35066.6        2930      0    0         1       \n",
              "8   8      31868.8        2631      1    0         0       \n",
              "9   9      93439.4        9022      1    1         0       \n",
              "10 10      18115.2        1500      0    0         0       \n",
              "11 11      46399.4        5992      0    1         0       \n",
              "12 12       7540.0        5977      0    0         0       \n",
              "13 13      59718.0        7003      1    0         0       \n",
              "14 14      66248.0        6786      1    1         0       \n",
              "15 15      35348.6        2160      1    0         1       \n",
              "16 16      17614.6        3595      1    0         1       \n",
              "17 17      65205.0        2896      0    0         1       \n",
              "18 18      35176.0        3809      0    0         1       \n",
              "19 19      12112.0        4792      1    0         0       \n",
              "20 20      23257.4        6032      1    0         1       "
            ]
          },
          "metadata": {}
        }
      ]
    },
    {
      "cell_type": "markdown",
      "source": [
        "# Build model"
      ],
      "metadata": {
        "id": "WKuui_ftLVX8"
      }
    },
    {
      "cell_type": "markdown",
      "source": [
        "### Preprocessing"
      ],
      "metadata": {
        "id": "lD8ajofYW8Yx"
      }
    },
    {
      "cell_type": "code",
      "source": [
        "# Scale continuous variables\n",
        "firms_avg_costs_scaled = firms_avg_costs\n",
        "firms_avg_costs_scaled$costs_per_year = scale(firms_avg_costs$costs_per_year)\n",
        "firms_avg_costs_scaled$employees = scale(firms_avg_costs$employees)\n",
        "\n",
        "# Show data\n",
        "nrow(firms_avg_costs_scaled)\n",
        "head(firms_avg_costs_scaled, 20)"
      ],
      "metadata": {
        "colab": {
          "base_uri": "https://localhost:8080/",
          "height": 742
        },
        "id": "FC9y3N9fXA0O",
        "outputId": "2229de71-df88-453b-8173-5447b72e051d"
      },
      "execution_count": null,
      "outputs": [
        {
          "output_type": "display_data",
          "data": {
            "text/html": [
              "1000"
            ],
            "text/markdown": "1000",
            "text/latex": "1000",
            "text/plain": [
              "[1] 1000"
            ]
          },
          "metadata": {}
        },
        {
          "output_type": "display_data",
          "data": {
            "text/html": [
              "<table class=\"dataframe\">\n",
              "<caption>A data.frame: 20 × 6</caption>\n",
              "<thead>\n",
              "\t<tr><th></th><th scope=col>firm_id</th><th scope=col>costs_per_year</th><th scope=col>employees</th><th scope=col>east</th><th scope=col>secondary</th><th scope=col>tertiary</th></tr>\n",
              "\t<tr><th></th><th scope=col>&lt;int&gt;</th><th scope=col>&lt;dbl[,1]&gt;</th><th scope=col>&lt;dbl[,1]&gt;</th><th scope=col>&lt;dbl&gt;</th><th scope=col>&lt;dbl&gt;</th><th scope=col>&lt;dbl&gt;</th></tr>\n",
              "</thead>\n",
              "<tbody>\n",
              "\t<tr><th scope=row>1</th><td> 1</td><td>-0.960709774</td><td>-0.196309878</td><td>0</td><td>0</td><td>1</td></tr>\n",
              "\t<tr><th scope=row>2</th><td> 2</td><td> 0.898395334</td><td>-0.291134983</td><td>1</td><td>0</td><td>0</td></tr>\n",
              "\t<tr><th scope=row>3</th><td> 3</td><td> 0.415156255</td><td>-1.552274655</td><td>1</td><td>0</td><td>1</td></tr>\n",
              "\t<tr><th scope=row>4</th><td> 4</td><td>-1.227337854</td><td> 0.001556227</td><td>1</td><td>0</td><td>0</td></tr>\n",
              "\t<tr><th scope=row>5</th><td> 5</td><td>-1.178725747</td><td>-0.950802776</td><td>0</td><td>1</td><td>0</td></tr>\n",
              "\t<tr><th scope=row>6</th><td> 6</td><td>-1.406886354</td><td>-0.990855257</td><td>0</td><td>0</td><td>1</td></tr>\n",
              "\t<tr><th scope=row>7</th><td> 7</td><td>-0.413958655</td><td>-0.675570339</td><td>0</td><td>0</td><td>1</td></tr>\n",
              "\t<tr><th scope=row>8</th><td> 8</td><td>-0.529159336</td><td>-0.777926681</td><td>1</td><td>0</td><td>0</td></tr>\n",
              "\t<tr><th scope=row>9</th><td> 9</td><td> 1.688920286</td><td> 1.409897327</td><td>1</td><td>1</td><td>0</td></tr>\n",
              "\t<tr><th scope=row>10</th><td>10</td><td>-1.024632498</td><td>-1.165100668</td><td>0</td><td>0</td><td>0</td></tr>\n",
              "\t<tr><th scope=row>11</th><td>11</td><td>-0.005694764</td><td> 0.372640756</td><td>0</td><td>1</td><td>0</td></tr>\n",
              "\t<tr><th scope=row>12</th><td>12</td><td>-1.405603864</td><td> 0.367505823</td><td>0</td><td>0</td><td>0</td></tr>\n",
              "\t<tr><th scope=row>13</th><td>13</td><td> 0.474107532</td><td> 0.718735275</td><td>1</td><td>0</td><td>0</td></tr>\n",
              "\t<tr><th scope=row>14</th><td>14</td><td> 0.709350650</td><td> 0.644449904</td><td>1</td><td>1</td><td>0</td></tr>\n",
              "\t<tr><th scope=row>15</th><td>15</td><td>-0.403799611</td><td>-0.939163593</td><td>1</td><td>0</td><td>1</td></tr>\n",
              "\t<tr><th scope=row>16</th><td>16</td><td>-1.042666603</td><td>-0.447921620</td><td>1</td><td>0</td><td>1</td></tr>\n",
              "\t<tr><th scope=row>17</th><td>17</td><td> 0.671776596</td><td>-0.687209522</td><td>0</td><td>0</td><td>1</td></tr>\n",
              "\t<tr><th scope=row>18</th><td>18</td><td>-0.410017522</td><td>-0.374663235</td><td>0</td><td>0</td><td>1</td></tr>\n",
              "\t<tr><th scope=row>19</th><td>19</td><td>-1.240897657</td><td>-0.038153925</td><td>1</td><td>0</td><td>0</td></tr>\n",
              "\t<tr><th scope=row>20</th><td>20</td><td>-0.839384847</td><td> 0.386333912</td><td>1</td><td>0</td><td>1</td></tr>\n",
              "</tbody>\n",
              "</table>\n"
            ],
            "text/markdown": "\nA data.frame: 20 × 6\n\n| <!--/--> | firm_id &lt;int&gt; | costs_per_year &lt;dbl[,1]&gt; | employees &lt;dbl[,1]&gt; | east &lt;dbl&gt; | secondary &lt;dbl&gt; | tertiary &lt;dbl&gt; |\n|---|---|---|---|---|---|---|\n| 1 |  1 | -0.960709774 | -0.196309878 | 0 | 0 | 1 |\n| 2 |  2 |  0.898395334 | -0.291134983 | 1 | 0 | 0 |\n| 3 |  3 |  0.415156255 | -1.552274655 | 1 | 0 | 1 |\n| 4 |  4 | -1.227337854 |  0.001556227 | 1 | 0 | 0 |\n| 5 |  5 | -1.178725747 | -0.950802776 | 0 | 1 | 0 |\n| 6 |  6 | -1.406886354 | -0.990855257 | 0 | 0 | 1 |\n| 7 |  7 | -0.413958655 | -0.675570339 | 0 | 0 | 1 |\n| 8 |  8 | -0.529159336 | -0.777926681 | 1 | 0 | 0 |\n| 9 |  9 |  1.688920286 |  1.409897327 | 1 | 1 | 0 |\n| 10 | 10 | -1.024632498 | -1.165100668 | 0 | 0 | 0 |\n| 11 | 11 | -0.005694764 |  0.372640756 | 0 | 1 | 0 |\n| 12 | 12 | -1.405603864 |  0.367505823 | 0 | 0 | 0 |\n| 13 | 13 |  0.474107532 |  0.718735275 | 1 | 0 | 0 |\n| 14 | 14 |  0.709350650 |  0.644449904 | 1 | 1 | 0 |\n| 15 | 15 | -0.403799611 | -0.939163593 | 1 | 0 | 1 |\n| 16 | 16 | -1.042666603 | -0.447921620 | 1 | 0 | 1 |\n| 17 | 17 |  0.671776596 | -0.687209522 | 0 | 0 | 1 |\n| 18 | 18 | -0.410017522 | -0.374663235 | 0 | 0 | 1 |\n| 19 | 19 | -1.240897657 | -0.038153925 | 1 | 0 | 0 |\n| 20 | 20 | -0.839384847 |  0.386333912 | 1 | 0 | 1 |\n\n",
            "text/latex": "A data.frame: 20 × 6\n\\begin{tabular}{r|llllll}\n  & firm\\_id & costs\\_per\\_year & employees & east & secondary & tertiary\\\\\n  & <int> & <dbl{[},1{]}> & <dbl{[},1{]}> & <dbl> & <dbl> & <dbl>\\\\\n\\hline\n\t1 &  1 & -0.960709774 & -0.196309878 & 0 & 0 & 1\\\\\n\t2 &  2 &  0.898395334 & -0.291134983 & 1 & 0 & 0\\\\\n\t3 &  3 &  0.415156255 & -1.552274655 & 1 & 0 & 1\\\\\n\t4 &  4 & -1.227337854 &  0.001556227 & 1 & 0 & 0\\\\\n\t5 &  5 & -1.178725747 & -0.950802776 & 0 & 1 & 0\\\\\n\t6 &  6 & -1.406886354 & -0.990855257 & 0 & 0 & 1\\\\\n\t7 &  7 & -0.413958655 & -0.675570339 & 0 & 0 & 1\\\\\n\t8 &  8 & -0.529159336 & -0.777926681 & 1 & 0 & 0\\\\\n\t9 &  9 &  1.688920286 &  1.409897327 & 1 & 1 & 0\\\\\n\t10 & 10 & -1.024632498 & -1.165100668 & 0 & 0 & 0\\\\\n\t11 & 11 & -0.005694764 &  0.372640756 & 0 & 1 & 0\\\\\n\t12 & 12 & -1.405603864 &  0.367505823 & 0 & 0 & 0\\\\\n\t13 & 13 &  0.474107532 &  0.718735275 & 1 & 0 & 0\\\\\n\t14 & 14 &  0.709350650 &  0.644449904 & 1 & 1 & 0\\\\\n\t15 & 15 & -0.403799611 & -0.939163593 & 1 & 0 & 1\\\\\n\t16 & 16 & -1.042666603 & -0.447921620 & 1 & 0 & 1\\\\\n\t17 & 17 &  0.671776596 & -0.687209522 & 0 & 0 & 1\\\\\n\t18 & 18 & -0.410017522 & -0.374663235 & 0 & 0 & 1\\\\\n\t19 & 19 & -1.240897657 & -0.038153925 & 1 & 0 & 0\\\\\n\t20 & 20 & -0.839384847 &  0.386333912 & 1 & 0 & 1\\\\\n\\end{tabular}\n",
            "text/plain": [
              "   firm_id costs_per_year employees    east secondary tertiary\n",
              "1   1      -0.960709774   -0.196309878 0    0         1       \n",
              "2   2       0.898395334   -0.291134983 1    0         0       \n",
              "3   3       0.415156255   -1.552274655 1    0         1       \n",
              "4   4      -1.227337854    0.001556227 1    0         0       \n",
              "5   5      -1.178725747   -0.950802776 0    1         0       \n",
              "6   6      -1.406886354   -0.990855257 0    0         1       \n",
              "7   7      -0.413958655   -0.675570339 0    0         1       \n",
              "8   8      -0.529159336   -0.777926681 1    0         0       \n",
              "9   9       1.688920286    1.409897327 1    1         0       \n",
              "10 10      -1.024632498   -1.165100668 0    0         0       \n",
              "11 11      -0.005694764    0.372640756 0    1         0       \n",
              "12 12      -1.405603864    0.367505823 0    0         0       \n",
              "13 13       0.474107532    0.718735275 1    0         0       \n",
              "14 14       0.709350650    0.644449904 1    1         0       \n",
              "15 15      -0.403799611   -0.939163593 1    0         1       \n",
              "16 16      -1.042666603   -0.447921620 1    0         1       \n",
              "17 17       0.671776596   -0.687209522 0    0         1       \n",
              "18 18      -0.410017522   -0.374663235 0    0         1       \n",
              "19 19      -1.240897657   -0.038153925 1    0         0       \n",
              "20 20      -0.839384847    0.386333912 1    0         1       "
            ]
          },
          "metadata": {}
        }
      ]
    },
    {
      "cell_type": "markdown",
      "source": [
        "### Make train, validation and test split"
      ],
      "metadata": {
        "id": "qXRg2pQMQ3Oe"
      }
    },
    {
      "cell_type": "code",
      "source": [
        "# Install packages and set library\n",
        "packages = c(\"caTools\", \"neuralnet\", \"NeuralNetTools\")\n",
        "install.packages(setdiff(packages, rownames(installed.packages())))\n",
        "library(caTools)\n",
        "library(neuralnet)\n",
        "library(NeuralNetTools)\n",
        "\n",
        "# Split the dataset\n",
        "set.seed(176)  # for reproducibility\n",
        "split = sample.split(firms_avg_costs_scaled$costs_per_year, SplitRatio = 0.7)  # 70% train, 30% test\n",
        "train_set = firms_avg_costs_scaled[split, ]\n",
        "test_set = firms_avg_costs_scaled[!split, ]\n",
        "\n",
        "# Further split the train set into train and validation sets\n",
        "split2 = sample.split(train_set$costs_per_year, SplitRatio = 0.8)  # 80% train, 20% validation\n",
        "validation_set = train_set[!split2, ]\n",
        "train_set = train_set[split2, ]\n",
        "\n",
        "# Print numbers\n",
        "print(paste0(\"Number of rows in train set: \", nrow(train_set)))\n",
        "print(paste0(\"Number of rows in validation set: \", nrow(validation_set)))\n",
        "print(paste0(\"Number of rows in test set: \", nrow(test_set)))"
      ],
      "metadata": {
        "colab": {
          "base_uri": "https://localhost:8080/"
        },
        "id": "4tJs3PXqLc4B",
        "outputId": "51f10461-a149-4441-ad2d-84b3c15f6c79"
      },
      "execution_count": null,
      "outputs": [
        {
          "output_type": "stream",
          "name": "stderr",
          "text": [
            "Installing packages into ‘/usr/local/lib/R/site-library’\n",
            "(as ‘lib’ is unspecified)\n",
            "\n",
            "also installing the dependencies ‘plyr’, ‘Rcpp’, ‘bitops’, ‘Deriv’, ‘reshape2’\n",
            "\n",
            "\n",
            "\n",
            "Attaching package: ‘neuralnet’\n",
            "\n",
            "\n",
            "The following object is masked from ‘package:dplyr’:\n",
            "\n",
            "    compute\n",
            "\n",
            "\n"
          ]
        },
        {
          "output_type": "stream",
          "name": "stdout",
          "text": [
            "[1] \"Number of rows in train set: 560\"\n",
            "[1] \"Number of rows in validation set: 140\"\n",
            "[1] \"Number of rows in test set: 300\"\n"
          ]
        }
      ]
    },
    {
      "cell_type": "markdown",
      "source": [
        "### Train model"
      ],
      "metadata": {
        "id": "QXpStUIyUmoh"
      }
    },
    {
      "cell_type": "code",
      "source": [
        "# Train a neural network model\n",
        "model = neuralnet(costs_per_year ~ employees + east + secondary + tertiary, data = train_set, hidden = c(3), lifesign = \"full\", stepmax=1e7)\n",
        "\n",
        "# Save the model\n",
        "saveRDS(model, \"neural_network_model.rds\")"
      ],
      "metadata": {
        "colab": {
          "base_uri": "https://localhost:8080/"
        },
        "id": "LI1MZaAaRX9A",
        "outputId": "517f6ee0-38df-4db1-d40f-93ae53dcff27"
      },
      "execution_count": null,
      "outputs": [
        {
          "output_type": "stream",
          "name": "stderr",
          "text": [
            "hidden: 3    thresh: 0.01    rep: 1/1    steps: \n",
            "   1000\tmin thresh: 0.0497288293257903\n",
            "                                                \n",
            "   1431\n",
            "\terror: 223.98149\n",
            "\ttime: 0.38 secs\n",
            "\n"
          ]
        }
      ]
    },
    {
      "cell_type": "markdown",
      "source": [
        "### Evaluate model\n",
        "Here we could potentially compare more than one model."
      ],
      "metadata": {
        "id": "EBrrQxB1Ur8r"
      }
    },
    {
      "cell_type": "code",
      "source": [
        "# Plot model\n",
        "plotnet(model, bias = FALSE)"
      ],
      "metadata": {
        "colab": {
          "base_uri": "https://localhost:8080/",
          "height": 437
        },
        "id": "ejm6FLnttARG",
        "outputId": "888bcbc6-3e7a-4781-d9d9-0400c37527d3"
      },
      "execution_count": null,
      "outputs": [
        {
          "output_type": "display_data",
          "data": {
            "text/plain": [
              "plot without title"
            ],
            "image/png": "[encoded data removed]"
          },
          "metadata": {
            "image/png": {
              "width": 420,
              "height": 420
            }
          }
        }
      ]
    },
    {
      "cell_type": "code",
      "source": [
        "# Evaluate the model\n",
        "predictions <- predict(model, test_set)\n",
        "mse <- mean((predictions - test_set$costs_per_year)^2)  # Mean Squared Error\n",
        "print(paste0(\"Mean Squared Error on test set: \", mse))"
      ],
      "metadata": {
        "colab": {
          "base_uri": "https://localhost:8080/"
        },
        "id": "ywKELZ2lUuoY",
        "outputId": "a7621985-cc76-44e2-b54d-0c7e9e9a5125"
      },
      "execution_count": null,
      "outputs": [
        {
          "output_type": "stream",
          "name": "stdout",
          "text": [
            "[1] \"Mean Squared Error on test set: 1.09277591169724\"\n"
          ]
        }
      ]
    },
    {
      "cell_type": "markdown",
      "source": [
        "# Calculate uncertainty\n",
        "Usually, neural networks and other non-parametric techniques such as Random Forest or SVM give point estimates instead of distributions. We use Monte-Carlo dropout to calculate uncertainty.\n",
        "\n",
        "Cf. https://arxiv.org/abs/1506.02142 and https://stats.stackexchange.com/questions/247551/how-to-determine-the-confidence-of-a-neural-network-prediction#:~:text=there%20are%20actually%20ways%20of%20doing%20this%20using%20dropout.%20\n",
        "\n",
        "The package neuralnet is not really feasible to execute dropouts. Better suited would be keras but keras is more difficult to implement and has no nice visualization tools. Hence, we stick with neuralnet and do not really perform a dropout for this exercise. The uncertainty might already be calculable using different training runs."
      ],
      "metadata": {
        "id": "2CgN6E5PLrZa"
      }
    },
    {
      "cell_type": "code",
      "source": [
        "# Assess uncertainty without Monte-Carlo dropout\n",
        "set.seed(176)\n",
        "num_dropout_samples = 10  # Number of dropout samples\n",
        "\n",
        "predictions_mc = matrix(NA, nrow = nrow(test_set), ncol = num_dropout_samples)\n",
        "for (i in 1:num_dropout_samples) {\n",
        "  # Disable dropout during prediction\n",
        "  model_mc = neuralnet(costs_per_year ~ employees + east + secondary + tertiary, data = train_set, hidden = c(3), lifesign = \"full\", stepmax=1e7)\n",
        "  predictions_mc[, i] = predict(model_mc, test_set)\n",
        "}\n",
        "\n",
        "# Calculate variance across predictions\n",
        "variance = apply(predictions_mc, 1, var)\n",
        "uncertainty = sqrt(variance)"
      ],
      "metadata": {
        "colab": {
          "base_uri": "https://localhost:8080/"
        },
        "id": "B3SxMl-6Lycs",
        "outputId": "f2cb2c2f-c939-4e79-acea-47dc72db0992"
      },
      "execution_count": null,
      "outputs": [
        {
          "output_type": "stream",
          "name": "stderr",
          "text": [
            "hidden: 3    thresh: 0.01    rep: 1/1    steps: \n",
            "   1000\tmin thresh: 0.153128308108012\n",
            "                                                \n",
            "   2000\tmin thresh: 0.103224389629618\n",
            "                                                \n",
            "   3000\tmin thresh: 0.031107132541262\n",
            "                                                \n",
            "   4000\tmin thresh: 0.0145138907880522\n",
            "                                                \n",
            "   5000\tmin thresh: 0.0145138907880522\n",
            "                                                \n",
            "   6000\tmin thresh: 0.0145138907880522\n",
            "                                                \n",
            "   7000\tmin thresh: 0.0145138907880522\n",
            "                                                \n",
            "   8000\tmin thresh: 0.0145138907880522\n",
            "                                                \n",
            "   9000\tmin thresh: 0.0145138907880522\n",
            "                                                \n",
            "  10000\tmin thresh: 0.0145138907880522\n",
            "                                                \n",
            "  11000\tmin thresh: 0.0145138907880522\n",
            "                                                \n",
            "  12000\tmin thresh: 0.0145138907880522\n",
            "                                                \n",
            "  13000\tmin thresh: 0.0145138907880522\n",
            "                                                \n",
            "  14000\tmin thresh: 0.0145138907880522\n",
            "                                                \n",
            "  15000\tmin thresh: 0.0145138907880522\n",
            "                                                \n",
            "  16000\tmin thresh: 0.0132926492402614\n",
            "                                                \n",
            "  17000\tmin thresh: 0.0128417452301726\n",
            "                                                \n",
            "  18000\tmin thresh: 0.0118867279412811\n",
            "                                                \n",
            "  19000\tmin thresh: 0.011284827963606\n",
            "                                                \n",
            "  20000\tmin thresh: 0.0106661758529967\n",
            "                                                \n",
            "  21000\tmin thresh: 0.010402803498649\n",
            "                                                \n",
            "  21373\n",
            "\terror: 218.18591\n",
            "\ttime: 4.16 secs\n",
            "\n",
            "hidden: 3    thresh: 0.01    rep: 1/1    steps: \n",
            "   1000\tmin thresh: 0.0898373825628109\n",
            "                                                \n",
            "   2000\tmin thresh: 0.0576935950105888\n",
            "                                                \n",
            "   3000\tmin thresh: 0.0269818434883567\n",
            "                                                \n",
            "   4000\tmin thresh: 0.0160292844155263\n",
            "                                                \n",
            "   5000\tmin thresh: 0.0160292844155263\n",
            "                                                \n",
            "   6000\tmin thresh: 0.0143608919540512\n",
            "                                                \n",
            "   7000\tmin thresh: 0.0123004962077567\n",
            "                                                \n",
            "   8000\tmin thresh: 0.0105544397606361\n",
            "                                                \n",
            "   8373\n",
            "\terror: 220.16256\n",
            "\ttime: 2.26 secs\n",
            "\n",
            "hidden: 3    thresh: 0.01    rep: 1/1    steps: \n",
            "   1000\tmin thresh: 0.0825454535470058\n",
            "                                                \n",
            "   2000\tmin thresh: 0.010228747125452\n",
            "                                                \n",
            "   3000\tmin thresh: 0.010228747125452\n",
            "                                                \n",
            "   4000\tmin thresh: 0.010228747125452\n",
            "                                                \n",
            "   5000\tmin thresh: 0.010228747125452\n",
            "                                                \n",
            "   5918\n",
            "\terror: 223.26256\n",
            "\ttime: 1.1 secs\n",
            "\n",
            "hidden: 3    thresh: 0.01    rep: 1/1    steps: \n",
            "   1000\tmin thresh: 0.0816912508345364\n",
            "                                                \n",
            "   2000\tmin thresh: 0.0417852293399417\n",
            "                                                \n",
            "   3000\tmin thresh: 0.0399864496936484\n",
            "                                                \n",
            "   4000\tmin thresh: 0.0399864496936484\n",
            "                                                \n",
            "   5000\tmin thresh: 0.0330604966958719\n",
            "                                                \n",
            "   6000\tmin thresh: 0.0277216530440922\n",
            "                                                \n",
            "   7000\tmin thresh: 0.0216022325835947\n",
            "                                                \n",
            "   8000\tmin thresh: 0.0155600826959596\n",
            "                                                \n",
            "   9000\tmin thresh: 0.0108424663337034\n",
            "                                                \n",
            "  10000\tmin thresh: 0.0108424663337034\n",
            "                                                \n",
            "  10905\n",
            "\terror: 220.46465\n",
            "\ttime: 2.01 secs\n",
            "\n",
            "hidden: 3    thresh: 0.01    rep: 1/1    steps: \n",
            "   1000\tmin thresh: 0.226924914766183\n",
            "                                                \n",
            "   2000\tmin thresh: 0.0300345368016204\n",
            "                                                \n",
            "   3000\tmin thresh: 0.0300214469286428\n",
            "                                                \n",
            "   4000\tmin thresh: 0.029412576350304\n",
            "                                                \n",
            "   5000\tmin thresh: 0.0238834812891842\n",
            "                                                \n",
            "   6000\tmin thresh: 0.0198521826377522\n",
            "                                                \n",
            "   7000\tmin thresh: 0.0159162628668459\n",
            "                                                \n",
            "   8000\tmin thresh: 0.0155202571414115\n",
            "                                                \n",
            "   9000\tmin thresh: 0.0133165135169584\n",
            "                                                \n",
            "   9472\n",
            "\terror: 223.09666\n",
            "\ttime: 1.65 secs\n",
            "\n",
            "hidden: 3    thresh: 0.01    rep: 1/1    steps: \n",
            "   1000\tmin thresh: 0.0832876174990873\n",
            "                                                \n",
            "   2000\tmin thresh: 0.0335490091855486\n",
            "                                                \n",
            "   3000\tmin thresh: 0.033152490954822\n",
            "                                                \n",
            "   4000\tmin thresh: 0.0255441164770123\n",
            "                                                \n",
            "   5000\tmin thresh: 0.0255441164770123\n",
            "                                                \n",
            "   6000\tmin thresh: 0.0255441164770123\n",
            "                                                \n",
            "   7000\tmin thresh: 0.0255441164770123\n",
            "                                                \n",
            "   8000\tmin thresh: 0.0255441164770123\n",
            "                                                \n",
            "   9000\tmin thresh: 0.0255441164770123\n",
            "                                                \n",
            "  10000\tmin thresh: 0.0255441164770123\n",
            "                                                \n",
            "  11000\tmin thresh: 0.0255441164770123\n",
            "                                                \n",
            "  12000\tmin thresh: 0.0255441164770123\n",
            "                                                \n",
            "  13000\tmin thresh: 0.0255441164770123\n",
            "                                                \n",
            "  14000\tmin thresh: 0.0255441164770123\n",
            "                                                \n",
            "  15000\tmin thresh: 0.0255441164770123\n",
            "                                                \n",
            "  16000\tmin thresh: 0.0255441164770123\n",
            "                                                \n",
            "  17000\tmin thresh: 0.0255441164770123\n",
            "                                                \n",
            "  18000\tmin thresh: 0.0245007306171257\n",
            "                                                \n",
            "  19000\tmin thresh: 0.0239868123892109\n",
            "                                                \n",
            "  20000\tmin thresh: 0.0224461520111641\n",
            "                                                \n",
            "  21000\tmin thresh: 0.0213241983844563\n",
            "                                                \n",
            "  22000\tmin thresh: 0.0208555564291828\n",
            "                                                \n",
            "  23000\tmin thresh: 0.0207635283570244\n",
            "                                                \n",
            "  24000\tmin thresh: 0.0192163824208436\n",
            "                                                \n",
            "  25000\tmin thresh: 0.0185805174927642\n",
            "                                                \n",
            "  26000\tmin thresh: 0.0180341292491164\n",
            "                                                \n",
            "  27000\tmin thresh: 0.0179962598195829\n",
            "                                                \n",
            "  28000\tmin thresh: 0.0174262953814441\n",
            "                                                \n",
            "  29000\tmin thresh: 0.0167369139861453\n",
            "                                                \n",
            "  30000\tmin thresh: 0.01637977077272\n",
            "                                                \n",
            "  31000\tmin thresh: 0.0158076022571247\n",
            "                                                \n",
            "  32000\tmin thresh: 0.0157496637426267\n",
            "                                                \n",
            "  33000\tmin thresh: 0.0154134932789791\n",
            "                                                \n",
            "  34000\tmin thresh: 0.0148810974291544\n",
            "                                                \n",
            "  35000\tmin thresh: 0.0144283942135548\n",
            "                                                \n",
            "  36000\tmin thresh: 0.0143309669718574\n",
            "                                                \n",
            "  37000\tmin thresh: 0.0139470631819831\n",
            "                                                \n",
            "  38000\tmin thresh: 0.0137685850971856\n",
            "                                                \n",
            "  39000\tmin thresh: 0.0134100275268576\n",
            "                                                \n",
            "  40000\tmin thresh: 0.0128790027463932\n",
            "                                                \n",
            "  41000\tmin thresh: 0.0128790027463932\n",
            "                                                \n",
            "  42000\tmin thresh: 0.0128387372275389\n",
            "                                                \n",
            "  43000\tmin thresh: 0.0126995992139287\n",
            "                                                \n",
            "  44000\tmin thresh: 0.0123455289521752\n",
            "                                                \n",
            "  45000\tmin thresh: 0.012183880360638\n",
            "                                                \n",
            "  46000\tmin thresh: 0.0120292574305161\n",
            "                                                \n",
            "  47000\tmin thresh: 0.0116749776591076\n",
            "                                                \n",
            "  48000\tmin thresh: 0.0116432481693289\n",
            "                                                \n",
            "  49000\tmin thresh: 0.0114126122564642\n",
            "                                                \n",
            "  50000\tmin thresh: 0.0111144219090384\n",
            "                                                \n",
            "  51000\tmin thresh: 0.0111144219090384\n",
            "                                                \n",
            "  52000\tmin thresh: 0.0109466194347538\n",
            "                                                \n",
            "  53000\tmin thresh: 0.0107006562274021\n",
            "                                                \n",
            "  54000\tmin thresh: 0.0107006562274021\n",
            "                                                \n",
            "  55000\tmin thresh: 0.0103741910444253\n",
            "                                                \n",
            "  56000\tmin thresh: 0.0102325459485559\n",
            "                                                \n",
            "  57000\tmin thresh: 0.0100120102678183\n",
            "                                                \n",
            "  58000\tmin thresh: 0.0100120102678183\n",
            "                                                \n",
            "  58055\n",
            "\terror: 221.07348\n",
            "\ttime: 10.91 secs\n",
            "\n",
            "hidden: 3    thresh: 0.01    rep: 1/1    steps: \n",
            "   1000\tmin thresh: 0.148909147296198\n",
            "                                                \n",
            "   2000\tmin thresh: 0.0177557961923269\n",
            "                                                \n",
            "   3000\tmin thresh: 0.0177557961923269\n",
            "                                                \n",
            "   4000\tmin thresh: 0.0127460835760829\n",
            "                                                \n",
            "   4572\n",
            "\terror: 223.29225\n",
            "\ttime: 0.81 secs\n",
            "\n",
            "hidden: 3    thresh: 0.01    rep: 1/1    steps: \n",
            "   1000\tmin thresh: 0.0586962060985314\n",
            "                                                \n",
            "   2000\tmin thresh: 0.0346816130256996\n",
            "                                                \n",
            "   3000\tmin thresh: 0.0346816130256996\n",
            "                                                \n",
            "   4000\tmin thresh: 0.0346816130256996\n",
            "                                                \n",
            "   5000\tmin thresh: 0.0308445318608985\n",
            "                                                \n",
            "   6000\tmin thresh: 0.0288814372978585\n",
            "                                                \n",
            "   7000\tmin thresh: 0.0242849950038515\n",
            "                                                \n",
            "   8000\tmin thresh: 0.0210254473463376\n",
            "                                                \n",
            "   9000\tmin thresh: 0.0190223207326117\n",
            "                                                \n",
            "  10000\tmin thresh: 0.0161424195296336\n",
            "                                                \n",
            "  11000\tmin thresh: 0.0141831725363399\n",
            "                                                \n",
            "  12000\tmin thresh: 0.0133820146740735\n",
            "                                                \n",
            "  12728\n",
            "\terror: 219.99133\n",
            "\ttime: 2.16 secs\n",
            "\n",
            "hidden: 3    thresh: 0.01    rep: 1/1    steps: \n",
            "   1000\tmin thresh: 0.0955829229286156\n",
            "                                                \n",
            "   2000\tmin thresh: 0.0242385600843829\n",
            "                                                \n",
            "   3000\tmin thresh: 0.0147089600896125\n",
            "                                                \n",
            "   4000\tmin thresh: 0.0147089600896125\n",
            "                                                \n",
            "   5000\tmin thresh: 0.0106047112088614\n",
            "                                                \n",
            "   5062\n",
            "\terror: 223.4024 \n",
            "\ttime: 0.89 secs\n",
            "\n",
            "hidden: 3    thresh: 0.01    rep: 1/1    steps: \n",
            "   1000\tmin thresh: 0.270796112761074\n",
            "                                                \n",
            "   2000\tmin thresh: 0.162811936195347\n",
            "                                                \n",
            "   3000\tmin thresh: 0.107114021090766\n",
            "                                                \n",
            "   4000\tmin thresh: 0.0984149336755529\n",
            "                                                \n",
            "   5000\tmin thresh: 0.0860090206495698\n",
            "                                                \n",
            "   6000\tmin thresh: 0.0761301884469781\n",
            "                                                \n",
            "   7000\tmin thresh: 0.0670488631625048\n",
            "                                                \n",
            "   8000\tmin thresh: 0.0632993826589319\n",
            "                                                \n",
            "   9000\tmin thresh: 0.0491593328719624\n",
            "                                                \n",
            "  10000\tmin thresh: 0.0458204810776452\n",
            "                                                \n",
            "  11000\tmin thresh: 0.0419817299028225\n",
            "                                                \n",
            "  12000\tmin thresh: 0.0393733341664255\n",
            "                                                \n",
            "  13000\tmin thresh: 0.0376295568363059\n",
            "                                                \n",
            "  14000\tmin thresh: 0.0356823003533933\n",
            "                                                \n",
            "  15000\tmin thresh: 0.0331478848039186\n",
            "                                                \n",
            "  16000\tmin thresh: 0.0319820008652654\n",
            "                                                \n",
            "  17000\tmin thresh: 0.0302318853364021\n",
            "                                                \n",
            "  18000\tmin thresh: 0.0298474075141195\n",
            "                                                \n",
            "  19000\tmin thresh: 0.0277323720313269\n",
            "                                                \n",
            "  20000\tmin thresh: 0.026810729619088\n",
            "                                                \n",
            "  21000\tmin thresh: 0.0259073309052766\n",
            "                                                \n",
            "  22000\tmin thresh: 0.0234311492432475\n",
            "                                                \n",
            "  23000\tmin thresh: 0.0234311492432475\n",
            "                                                \n",
            "  24000\tmin thresh: 0.0226597588810868\n",
            "                                                \n",
            "  25000\tmin thresh: 0.0216003470622681\n",
            "                                                \n",
            "  26000\tmin thresh: 0.0216003470622681\n",
            "                                                \n",
            "  27000\tmin thresh: 0.0205341133526815\n",
            "                                                \n",
            "  28000\tmin thresh: 0.0197774544156903\n",
            "                                                \n",
            "  29000\tmin thresh: 0.0196600995114018\n",
            "                                                \n",
            "  30000\tmin thresh: 0.0188364711433167\n",
            "                                                \n",
            "  31000\tmin thresh: 0.0187398781017478\n",
            "                                                \n",
            "  32000\tmin thresh: 0.0176119361701126\n",
            "                                                \n",
            "  33000\tmin thresh: 0.0176119361701126\n",
            "                                                \n",
            "  34000\tmin thresh: 0.0172987905150706\n",
            "                                                \n",
            "  35000\tmin thresh: 0.0168495210862218\n",
            "                                                \n",
            "  36000\tmin thresh: 0.0167203387744053\n",
            "                                                \n",
            "  37000\tmin thresh: 0.0160361929560118\n",
            "                                                \n",
            "  38000\tmin thresh: 0.0157172331321664\n",
            "                                                \n",
            "  39000\tmin thresh: 0.0157172331321664\n",
            "                                                \n",
            "  40000\tmin thresh: 0.0154299763694468\n",
            "                                                \n",
            "  41000\tmin thresh: 0.0151404420099723\n",
            "                                                \n",
            "  42000\tmin thresh: 0.0149437425480574\n",
            "                                                \n",
            "  43000\tmin thresh: 0.0146527971610837\n",
            "                                                \n",
            "  44000\tmin thresh: 0.0142682546353825\n",
            "                                                \n",
            "  45000\tmin thresh: 0.0142198755729019\n",
            "                                                \n",
            "  46000\tmin thresh: 0.0142198755729019\n",
            "                                                \n",
            "  47000\tmin thresh: 0.0137320088225312\n",
            "                                                \n",
            "  48000\tmin thresh: 0.0137320088225312\n",
            "                                                \n",
            "  49000\tmin thresh: 0.0130983180663229\n",
            "                                                \n",
            "  50000\tmin thresh: 0.0130983180663229\n",
            "                                                \n",
            "  51000\tmin thresh: 0.013059403138616\n",
            "                                                \n",
            "  52000\tmin thresh: 0.013059403138616\n",
            "                                                \n",
            "  53000\tmin thresh: 0.013059403138616\n",
            "                                                \n",
            "  54000\tmin thresh: 0.0129890103787158\n",
            "                                                \n",
            "  55000\tmin thresh: 0.0127569575095592\n",
            "                                                \n",
            "  56000\tmin thresh: 0.0124542831650505\n",
            "                                                \n",
            "  57000\tmin thresh: 0.0124542831650505\n",
            "                                                \n",
            "  58000\tmin thresh: 0.0124007416823151\n",
            "                                                \n",
            "  59000\tmin thresh: 0.0120150282675819\n",
            "                                                \n",
            "  60000\tmin thresh: 0.0120150282675819\n",
            "                                                \n",
            "  61000\tmin thresh: 0.0115640264597001\n",
            "                                                \n",
            "  62000\tmin thresh: 0.0115640264597001\n",
            "                                                \n",
            "  63000\tmin thresh: 0.0115640264597001\n",
            "                                                \n",
            "  64000\tmin thresh: 0.0115640264597001\n",
            "                                                \n",
            "  65000\tmin thresh: 0.0112257936760924\n",
            "                                                \n",
            "  66000\tmin thresh: 0.0112257936760924\n",
            "                                                \n",
            "  67000\tmin thresh: 0.0112257936760924\n",
            "                                                \n",
            "  68000\tmin thresh: 0.0107661252402487\n",
            "                                                \n",
            "  69000\tmin thresh: 0.0107661252402487\n",
            "                                                \n",
            "  70000\tmin thresh: 0.0107197519052669\n",
            "                                                \n",
            "  71000\tmin thresh: 0.0107197519052669\n",
            "                                                \n",
            "  72000\tmin thresh: 0.0107197519052669\n",
            "                                                \n",
            "  73000\tmin thresh: 0.0107197519052669\n",
            "                                                \n",
            "  74000\tmin thresh: 0.0107197519052669\n",
            "                                                \n",
            "  75000\tmin thresh: 0.0102787850216117\n",
            "                                                \n",
            "  76000\tmin thresh: 0.0102787850216117\n",
            "                                                \n",
            "  77000\tmin thresh: 0.0102787850216117\n",
            "                                                \n",
            "  78000\tmin thresh: 0.0101566486108222\n",
            "                                                \n",
            "  78469\n",
            "\terror: 216.70692\n",
            "\ttime: 14.19 secs\n",
            "\n"
          ]
        }
      ]
    },
    {
      "cell_type": "code",
      "source": [
        "head(uncertainty)\n",
        "length(uncertainty)"
      ],
      "metadata": {
        "colab": {
          "base_uri": "https://localhost:8080/",
          "height": 69
        },
        "id": "LMheDEUkMtPU",
        "outputId": "20fb5896-af31-45d1-d870-69445ff4823e"
      },
      "execution_count": null,
      "outputs": [
        {
          "output_type": "display_data",
          "data": {
            "text/html": [
              "<style>\n",
              ".list-inline {list-style: none; margin:0; padding: 0}\n",
              ".list-inline>li {display: inline-block}\n",
              ".list-inline>li:not(:last-child)::after {content: \"\\00b7\"; padding: 0 .5ex}\n",
              "</style>\n",
              "<ol class=list-inline><li>0.185884056863754</li><li>0.143234725782788</li><li>0.105602399057261</li><li>0.118143434926176</li><li>0.0715778892047814</li><li>0.124960497192762</li></ol>\n"
            ],
            "text/markdown": "1. 0.185884056863754\n2. 0.143234725782788\n3. 0.105602399057261\n4. 0.118143434926176\n5. 0.0715778892047814\n6. 0.124960497192762\n\n\n",
            "text/latex": "\\begin{enumerate*}\n\\item 0.185884056863754\n\\item 0.143234725782788\n\\item 0.105602399057261\n\\item 0.118143434926176\n\\item 0.0715778892047814\n\\item 0.124960497192762\n\\end{enumerate*}\n",
            "text/plain": [
              "[1] 0.18588406 0.14323473 0.10560240 0.11814343 0.07157789 0.12496050"
            ]
          },
          "metadata": {}
        },
        {
          "output_type": "display_data",
          "data": {
            "text/html": [
              "300"
            ],
            "text/markdown": "300",
            "text/latex": "300",
            "text/plain": [
              "[1] 300"
            ]
          },
          "metadata": {}
        }
      ]
    },
    {
      "cell_type": "markdown",
      "source": [
        "# Calculate premium\n",
        "We have to scale the inputs and rescale the output as the model is trained on normalized data."
      ],
      "metadata": {
        "id": "8PSlIb2Jxup7"
      }
    },
    {
      "cell_type": "code",
      "source": [
        "# Generate test data (USER INPUT)\n",
        "new_data <- data.frame(\n",
        "  employees = 3000,\n",
        "  east = 0,\n",
        "  secondary = 1,\n",
        "  tertiary = 0\n",
        ")\n",
        "\n",
        "# Create function for calculating premiums\n",
        "calculate_premium = function(nn_model, data_to_predict) {\n",
        "  # scale employees\n",
        "  data_to_predict$employees = (data_to_predict$employees - mean(firms_avg_costs$employees)) / sd(firms_avg_costs$employees)\n",
        "  # make prediction\n",
        "  predicted_value = neuralnet::compute(nn_model, data_to_predict)$net.result\n",
        "  # rescale prediction\n",
        "  rescaled_value = (predicted_value * sd(firms_avg_costs$costs_per_year)) + mean(firms_avg_costs$costs_per_year)\n",
        "  return(rescaled_value)\n",
        "}\n",
        "\n",
        "# Test function\n",
        "premium = calculate_premium(model, new_data)\n",
        "print(paste0(\"A firm with the given data should pay a net premium of \",\n",
        "      format(round(premium, 2), big.mark = \",\", scientific = FALSE), \" € per year without considering uncertainty.\"))\n",
        "print(paste0(\"Adding a risk premium - assuming normality - the client should pay \",\n",
        "      format(round(premium + 2*((mean(uncertainty) * sd(firms_avg_costs$costs_per_year)) + mean(firms_avg_costs$costs_per_year)), 2), big.mark = \",\", scientific = FALSE),\n",
        "      \" € per year to cover a 95 % risk. Note, that this might be high in this proof of concept as we only sampled few times.\"))"
      ],
      "metadata": {
        "colab": {
          "base_uri": "https://localhost:8080/"
        },
        "id": "yCDcf5s6xzLI",
        "outputId": "15345a11-fd14-4769-accb-69217a1302b3"
      },
      "execution_count": null,
      "outputs": [
        {
          "output_type": "stream",
          "name": "stdout",
          "text": [
            "[1] \"A firm with the given data should pay a net premium of 34,572.64 € per year without considering uncertainty.\"\n",
            "[1] \"Adding a risk premium - assuming normality - the client should pay 135,172.4 € per year to cover a 95 % risk. Note, that this might be high in this proof of concept as we only sampled few times.\"\n"
          ]
        }
      ]
    }
  ]
}